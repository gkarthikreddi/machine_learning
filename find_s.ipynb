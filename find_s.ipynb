{
 "cells": [
  {
   "cell_type": "code",
   "execution_count": null,
   "id": "5c4631b2-778a-4f71-9fa7-2ca420b69079",
   "metadata": {},
   "outputs": [],
   "source": [
    "import numpy as np\n",
    "import pandas as pd"
   ]
  },
  {
   "cell_type": "code",
   "execution_count": null,
   "id": "4befb171-71d8-4e85-be90-a93addc00a2c",
   "metadata": {},
   "outputs": [],
   "source": [
    "data = pd.read_csv(\"dataset1.csv\")\n",
    "sample = np.array(data)[1:,:-1] # Removes the header and last coloumn of data\n",
    "target = np.array(data)[1:,-1]  # Removes the header and gives the last coloumn"
   ]
  },
  {
   "cell_type": "code",
   "execution_count": null,
   "id": "d983c2b9-fd3e-4da8-9029-7f51d9ffdec9",
   "metadata": {},
   "outputs": [],
   "source": [
    "def train(sample, target):\n",
    "    \n",
    "    # Initializing specific_hypothesis\n",
    "    for i in range(len(target)):\n",
    "        if target[i] == \"Yes\":\n",
    "            specific_hypothesis = list(sample[i])\n",
    "            break\n",
    "\n",
    "    # Tuning specific_hypothesis\n",
    "    for i in range(len(sample)):\n",
    "        if target[i] == \"Yes\":\n",
    "            for j in range(len(specific_hypothesis)):\n",
    "                if sample[i][j] != specific_hypothesis[j]:\n",
    "                    specific_hypothesis[j] = '?'\n",
    "\n",
    "    return specific_hypothesis"
   ]
  },
  {
   "cell_type": "code",
   "execution_count": null,
   "id": "1b9e2075-20ef-453c-a465-272961860229",
   "metadata": {},
   "outputs": [],
   "source": [
    "def predict(sample, specific_hypothesis):\n",
    "    for i in range(len(sample)):\n",
    "        if specific_hypothesis[i] != '?' and specific_hypothesis[i] != sample[i]:\n",
    "            return False\n",
    "    return True"
   ]
  },
  {
   "cell_type": "code",
   "execution_count": 32,
   "id": "1889ee61-4585-44d2-8fcd-e88d5065825a",
   "metadata": {},
   "outputs": [
    {
     "name": "stdout",
     "output_type": "stream",
     "text": [
      "Specific Hypothesis:  ['?', 'Sunny', '?', 'Yes', '?', '?']\n",
      "Prediction for  ['Night', 'Sunny', 'Moderate', 'Yes', 'Normal', 'Low']  is  True\n"
     ]
    }
   ],
   "source": [
    "specific_hypothesis = train(sample, target)\n",
    "print(\"Specific Hypothesis: \", specific_hypothesis)\n",
    "example = [\"Night\", \"Sunny\", \"Moderate\", \"Yes\", \"Normal\", \"Low\"]\n",
    "ans = predict(example, specific_hypothesis)\n",
    "print(\"Prediction for \", example, \" is \", ans)"
   ]
  }
 ],
 "metadata": {
  "kernelspec": {
   "display_name": "Python 3 (ipykernel)",
   "language": "python",
   "name": "python3"
  },
  "language_info": {
   "codemirror_mode": {
    "name": "ipython",
    "version": 3
   },
   "file_extension": ".py",
   "mimetype": "text/x-python",
   "name": "python",
   "nbconvert_exporter": "python",
   "pygments_lexer": "ipython3",
   "version": "3.9.6"
  }
 },
 "nbformat": 4,
 "nbformat_minor": 5
}
